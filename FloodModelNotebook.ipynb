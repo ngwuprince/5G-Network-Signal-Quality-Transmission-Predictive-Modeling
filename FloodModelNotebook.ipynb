{
  "nbformat": 4,
  "nbformat_minor": 0,
  "metadata": {
    "colab": {
      "provenance": [],
      "gpuType": "V28",
      "include_colab_link": true
    },
    "kernelspec": {
      "name": "python3",
      "display_name": "Python 3"
    },
    "language_info": {
      "name": "python"
    },
    "accelerator": "TPU",
    "widgets": {
      "application/vnd.jupyter.widget-state+json": {
        "c9e1c449d3a24387b5466e9782819d6e": {
          "model_module": "@jupyter-widgets/controls",
          "model_name": "HBoxModel",
          "model_module_version": "1.5.0",
          "state": {
            "_dom_classes": [],
            "_model_module": "@jupyter-widgets/controls",
            "_model_module_version": "1.5.0",
            "_model_name": "HBoxModel",
            "_view_count": null,
            "_view_module": "@jupyter-widgets/controls",
            "_view_module_version": "1.5.0",
            "_view_name": "HBoxView",
            "box_style": "",
            "children": [
              "IPY_MODEL_ddfad91fd9b648e4a4f42264c461aab8",
              "IPY_MODEL_c8dae31b1943497ea54f8148fc439abb",
              "IPY_MODEL_738863cfc18a4d1cb3a20a1ff34f29a9"
            ],
            "layout": "IPY_MODEL_408227fdef68419193c895c640cd2ca2"
          }
        },
        "ddfad91fd9b648e4a4f42264c461aab8": {
          "model_module": "@jupyter-widgets/controls",
          "model_name": "HTMLModel",
          "model_module_version": "1.5.0",
          "state": {
            "_dom_classes": [],
            "_model_module": "@jupyter-widgets/controls",
            "_model_module_version": "1.5.0",
            "_model_name": "HTMLModel",
            "_view_count": null,
            "_view_module": "@jupyter-widgets/controls",
            "_view_module_version": "1.5.0",
            "_view_name": "HTMLView",
            "description": "",
            "description_tooltip": null,
            "layout": "IPY_MODEL_4cce244150184ef8b43468691a8436b2",
            "placeholder": "​",
            "style": "IPY_MODEL_b6fa5a344ba34b0999c29acebfabfbad",
            "value": "100%"
          }
        },
        "c8dae31b1943497ea54f8148fc439abb": {
          "model_module": "@jupyter-widgets/controls",
          "model_name": "FloatProgressModel",
          "model_module_version": "1.5.0",
          "state": {
            "_dom_classes": [],
            "_model_module": "@jupyter-widgets/controls",
            "_model_module_version": "1.5.0",
            "_model_name": "FloatProgressModel",
            "_view_count": null,
            "_view_module": "@jupyter-widgets/controls",
            "_view_module_version": "1.5.0",
            "_view_name": "ProgressView",
            "bar_style": "success",
            "description": "",
            "description_tooltip": null,
            "layout": "IPY_MODEL_8500447203e648bb8a8de4178c17d6ad",
            "max": 674,
            "min": 0,
            "orientation": "horizontal",
            "style": "IPY_MODEL_9fc4dddd24524d89920fb7809ad16a87",
            "value": 674
          }
        },
        "738863cfc18a4d1cb3a20a1ff34f29a9": {
          "model_module": "@jupyter-widgets/controls",
          "model_name": "HTMLModel",
          "model_module_version": "1.5.0",
          "state": {
            "_dom_classes": [],
            "_model_module": "@jupyter-widgets/controls",
            "_model_module_version": "1.5.0",
            "_model_name": "HTMLModel",
            "_view_count": null,
            "_view_module": "@jupyter-widgets/controls",
            "_view_module_version": "1.5.0",
            "_view_name": "HTMLView",
            "description": "",
            "description_tooltip": null,
            "layout": "IPY_MODEL_1cfd6a6fbd2a4e00a505089c2f54c84a",
            "placeholder": "​",
            "style": "IPY_MODEL_6af531bdefc44e728e6ff9998e78bee9",
            "value": " 674/674 [00:05&lt;00:00, 368.20it/s]"
          }
        },
        "408227fdef68419193c895c640cd2ca2": {
          "model_module": "@jupyter-widgets/base",
          "model_name": "LayoutModel",
          "model_module_version": "1.2.0",
          "state": {
            "_model_module": "@jupyter-widgets/base",
            "_model_module_version": "1.2.0",
            "_model_name": "LayoutModel",
            "_view_count": null,
            "_view_module": "@jupyter-widgets/base",
            "_view_module_version": "1.2.0",
            "_view_name": "LayoutView",
            "align_content": null,
            "align_items": null,
            "align_self": null,
            "border": null,
            "bottom": null,
            "display": null,
            "flex": null,
            "flex_flow": null,
            "grid_area": null,
            "grid_auto_columns": null,
            "grid_auto_flow": null,
            "grid_auto_rows": null,
            "grid_column": null,
            "grid_gap": null,
            "grid_row": null,
            "grid_template_areas": null,
            "grid_template_columns": null,
            "grid_template_rows": null,
            "height": null,
            "justify_content": null,
            "justify_items": null,
            "left": null,
            "margin": null,
            "max_height": null,
            "max_width": null,
            "min_height": null,
            "min_width": null,
            "object_fit": null,
            "object_position": null,
            "order": null,
            "overflow": null,
            "overflow_x": null,
            "overflow_y": null,
            "padding": null,
            "right": null,
            "top": null,
            "visibility": null,
            "width": null
          }
        },
        "4cce244150184ef8b43468691a8436b2": {
          "model_module": "@jupyter-widgets/base",
          "model_name": "LayoutModel",
          "model_module_version": "1.2.0",
          "state": {
            "_model_module": "@jupyter-widgets/base",
            "_model_module_version": "1.2.0",
            "_model_name": "LayoutModel",
            "_view_count": null,
            "_view_module": "@jupyter-widgets/base",
            "_view_module_version": "1.2.0",
            "_view_name": "LayoutView",
            "align_content": null,
            "align_items": null,
            "align_self": null,
            "border": null,
            "bottom": null,
            "display": null,
            "flex": null,
            "flex_flow": null,
            "grid_area": null,
            "grid_auto_columns": null,
            "grid_auto_flow": null,
            "grid_auto_rows": null,
            "grid_column": null,
            "grid_gap": null,
            "grid_row": null,
            "grid_template_areas": null,
            "grid_template_columns": null,
            "grid_template_rows": null,
            "height": null,
            "justify_content": null,
            "justify_items": null,
            "left": null,
            "margin": null,
            "max_height": null,
            "max_width": null,
            "min_height": null,
            "min_width": null,
            "object_fit": null,
            "object_position": null,
            "order": null,
            "overflow": null,
            "overflow_x": null,
            "overflow_y": null,
            "padding": null,
            "right": null,
            "top": null,
            "visibility": null,
            "width": null
          }
        },
        "b6fa5a344ba34b0999c29acebfabfbad": {
          "model_module": "@jupyter-widgets/controls",
          "model_name": "DescriptionStyleModel",
          "model_module_version": "1.5.0",
          "state": {
            "_model_module": "@jupyter-widgets/controls",
            "_model_module_version": "1.5.0",
            "_model_name": "DescriptionStyleModel",
            "_view_count": null,
            "_view_module": "@jupyter-widgets/base",
            "_view_module_version": "1.2.0",
            "_view_name": "StyleView",
            "description_width": ""
          }
        },
        "8500447203e648bb8a8de4178c17d6ad": {
          "model_module": "@jupyter-widgets/base",
          "model_name": "LayoutModel",
          "model_module_version": "1.2.0",
          "state": {
            "_model_module": "@jupyter-widgets/base",
            "_model_module_version": "1.2.0",
            "_model_name": "LayoutModel",
            "_view_count": null,
            "_view_module": "@jupyter-widgets/base",
            "_view_module_version": "1.2.0",
            "_view_name": "LayoutView",
            "align_content": null,
            "align_items": null,
            "align_self": null,
            "border": null,
            "bottom": null,
            "display": null,
            "flex": null,
            "flex_flow": null,
            "grid_area": null,
            "grid_auto_columns": null,
            "grid_auto_flow": null,
            "grid_auto_rows": null,
            "grid_column": null,
            "grid_gap": null,
            "grid_row": null,
            "grid_template_areas": null,
            "grid_template_columns": null,
            "grid_template_rows": null,
            "height": null,
            "justify_content": null,
            "justify_items": null,
            "left": null,
            "margin": null,
            "max_height": null,
            "max_width": null,
            "min_height": null,
            "min_width": null,
            "object_fit": null,
            "object_position": null,
            "order": null,
            "overflow": null,
            "overflow_x": null,
            "overflow_y": null,
            "padding": null,
            "right": null,
            "top": null,
            "visibility": null,
            "width": null
          }
        },
        "9fc4dddd24524d89920fb7809ad16a87": {
          "model_module": "@jupyter-widgets/controls",
          "model_name": "ProgressStyleModel",
          "model_module_version": "1.5.0",
          "state": {
            "_model_module": "@jupyter-widgets/controls",
            "_model_module_version": "1.5.0",
            "_model_name": "ProgressStyleModel",
            "_view_count": null,
            "_view_module": "@jupyter-widgets/base",
            "_view_module_version": "1.2.0",
            "_view_name": "StyleView",
            "bar_color": null,
            "description_width": ""
          }
        },
        "1cfd6a6fbd2a4e00a505089c2f54c84a": {
          "model_module": "@jupyter-widgets/base",
          "model_name": "LayoutModel",
          "model_module_version": "1.2.0",
          "state": {
            "_model_module": "@jupyter-widgets/base",
            "_model_module_version": "1.2.0",
            "_model_name": "LayoutModel",
            "_view_count": null,
            "_view_module": "@jupyter-widgets/base",
            "_view_module_version": "1.2.0",
            "_view_name": "LayoutView",
            "align_content": null,
            "align_items": null,
            "align_self": null,
            "border": null,
            "bottom": null,
            "display": null,
            "flex": null,
            "flex_flow": null,
            "grid_area": null,
            "grid_auto_columns": null,
            "grid_auto_flow": null,
            "grid_auto_rows": null,
            "grid_column": null,
            "grid_gap": null,
            "grid_row": null,
            "grid_template_areas": null,
            "grid_template_columns": null,
            "grid_template_rows": null,
            "height": null,
            "justify_content": null,
            "justify_items": null,
            "left": null,
            "margin": null,
            "max_height": null,
            "max_width": null,
            "min_height": null,
            "min_width": null,
            "object_fit": null,
            "object_position": null,
            "order": null,
            "overflow": null,
            "overflow_x": null,
            "overflow_y": null,
            "padding": null,
            "right": null,
            "top": null,
            "visibility": null,
            "width": null
          }
        },
        "6af531bdefc44e728e6ff9998e78bee9": {
          "model_module": "@jupyter-widgets/controls",
          "model_name": "DescriptionStyleModel",
          "model_module_version": "1.5.0",
          "state": {
            "_model_module": "@jupyter-widgets/controls",
            "_model_module_version": "1.5.0",
            "_model_name": "DescriptionStyleModel",
            "_view_count": null,
            "_view_module": "@jupyter-widgets/base",
            "_view_module_version": "1.2.0",
            "_view_name": "StyleView",
            "description_width": ""
          }
        },
        "11d42f89d35b4eeb9f7a1063aebf915b": {
          "model_module": "@jupyter-widgets/controls",
          "model_name": "HBoxModel",
          "model_module_version": "1.5.0",
          "state": {
            "_dom_classes": [],
            "_model_module": "@jupyter-widgets/controls",
            "_model_module_version": "1.5.0",
            "_model_name": "HBoxModel",
            "_view_count": null,
            "_view_module": "@jupyter-widgets/controls",
            "_view_module_version": "1.5.0",
            "_view_name": "HBoxView",
            "box_style": "",
            "children": [
              "IPY_MODEL_167e3a3c32e04cd1a7dbdbe88539e07f",
              "IPY_MODEL_fc6e7789e8a340bfa4838b6e835674b0",
              "IPY_MODEL_bceced1ecc3a4a9f9b6a2c1c9d52a73b"
            ],
            "layout": "IPY_MODEL_f7beb22fe3d149478dc5ecf1afd42ee9"
          }
        },
        "167e3a3c32e04cd1a7dbdbe88539e07f": {
          "model_module": "@jupyter-widgets/controls",
          "model_name": "HTMLModel",
          "model_module_version": "1.5.0",
          "state": {
            "_dom_classes": [],
            "_model_module": "@jupyter-widgets/controls",
            "_model_module_version": "1.5.0",
            "_model_name": "HTMLModel",
            "_view_count": null,
            "_view_module": "@jupyter-widgets/controls",
            "_view_module_version": "1.5.0",
            "_view_name": "HTMLView",
            "description": "",
            "description_tooltip": null,
            "layout": "IPY_MODEL_755a8f4fd01c438390fb1e90c161e7ec",
            "placeholder": "​",
            "style": "IPY_MODEL_0b1ddd7ed6504212a4141f40d4f44381",
            "value": "100%"
          }
        },
        "fc6e7789e8a340bfa4838b6e835674b0": {
          "model_module": "@jupyter-widgets/controls",
          "model_name": "FloatProgressModel",
          "model_module_version": "1.5.0",
          "state": {
            "_dom_classes": [],
            "_model_module": "@jupyter-widgets/controls",
            "_model_module_version": "1.5.0",
            "_model_name": "FloatProgressModel",
            "_view_count": null,
            "_view_module": "@jupyter-widgets/controls",
            "_view_module_version": "1.5.0",
            "_view_name": "ProgressView",
            "bar_style": "success",
            "description": "",
            "description_tooltip": null,
            "layout": "IPY_MODEL_0ea37ffd08214d9ebf9d694dd42859ea",
            "max": 224,
            "min": 0,
            "orientation": "horizontal",
            "style": "IPY_MODEL_6b1b82d54c534ff5ac33feb1f3d38c0c",
            "value": 224
          }
        },
        "bceced1ecc3a4a9f9b6a2c1c9d52a73b": {
          "model_module": "@jupyter-widgets/controls",
          "model_name": "HTMLModel",
          "model_module_version": "1.5.0",
          "state": {
            "_dom_classes": [],
            "_model_module": "@jupyter-widgets/controls",
            "_model_module_version": "1.5.0",
            "_model_name": "HTMLModel",
            "_view_count": null,
            "_view_module": "@jupyter-widgets/controls",
            "_view_module_version": "1.5.0",
            "_view_name": "HTMLView",
            "description": "",
            "description_tooltip": null,
            "layout": "IPY_MODEL_f273fc685ad44e26ac0d4b5493db1caf",
            "placeholder": "​",
            "style": "IPY_MODEL_70bb72bed2864293959ddabd69a7cc28",
            "value": " 224/224 [00:00&lt;00:00, 386.34it/s]"
          }
        },
        "f7beb22fe3d149478dc5ecf1afd42ee9": {
          "model_module": "@jupyter-widgets/base",
          "model_name": "LayoutModel",
          "model_module_version": "1.2.0",
          "state": {
            "_model_module": "@jupyter-widgets/base",
            "_model_module_version": "1.2.0",
            "_model_name": "LayoutModel",
            "_view_count": null,
            "_view_module": "@jupyter-widgets/base",
            "_view_module_version": "1.2.0",
            "_view_name": "LayoutView",
            "align_content": null,
            "align_items": null,
            "align_self": null,
            "border": null,
            "bottom": null,
            "display": null,
            "flex": null,
            "flex_flow": null,
            "grid_area": null,
            "grid_auto_columns": null,
            "grid_auto_flow": null,
            "grid_auto_rows": null,
            "grid_column": null,
            "grid_gap": null,
            "grid_row": null,
            "grid_template_areas": null,
            "grid_template_columns": null,
            "grid_template_rows": null,
            "height": null,
            "justify_content": null,
            "justify_items": null,
            "left": null,
            "margin": null,
            "max_height": null,
            "max_width": null,
            "min_height": null,
            "min_width": null,
            "object_fit": null,
            "object_position": null,
            "order": null,
            "overflow": null,
            "overflow_x": null,
            "overflow_y": null,
            "padding": null,
            "right": null,
            "top": null,
            "visibility": null,
            "width": null
          }
        },
        "755a8f4fd01c438390fb1e90c161e7ec": {
          "model_module": "@jupyter-widgets/base",
          "model_name": "LayoutModel",
          "model_module_version": "1.2.0",
          "state": {
            "_model_module": "@jupyter-widgets/base",
            "_model_module_version": "1.2.0",
            "_model_name": "LayoutModel",
            "_view_count": null,
            "_view_module": "@jupyter-widgets/base",
            "_view_module_version": "1.2.0",
            "_view_name": "LayoutView",
            "align_content": null,
            "align_items": null,
            "align_self": null,
            "border": null,
            "bottom": null,
            "display": null,
            "flex": null,
            "flex_flow": null,
            "grid_area": null,
            "grid_auto_columns": null,
            "grid_auto_flow": null,
            "grid_auto_rows": null,
            "grid_column": null,
            "grid_gap": null,
            "grid_row": null,
            "grid_template_areas": null,
            "grid_template_columns": null,
            "grid_template_rows": null,
            "height": null,
            "justify_content": null,
            "justify_items": null,
            "left": null,
            "margin": null,
            "max_height": null,
            "max_width": null,
            "min_height": null,
            "min_width": null,
            "object_fit": null,
            "object_position": null,
            "order": null,
            "overflow": null,
            "overflow_x": null,
            "overflow_y": null,
            "padding": null,
            "right": null,
            "top": null,
            "visibility": null,
            "width": null
          }
        },
        "0b1ddd7ed6504212a4141f40d4f44381": {
          "model_module": "@jupyter-widgets/controls",
          "model_name": "DescriptionStyleModel",
          "model_module_version": "1.5.0",
          "state": {
            "_model_module": "@jupyter-widgets/controls",
            "_model_module_version": "1.5.0",
            "_model_name": "DescriptionStyleModel",
            "_view_count": null,
            "_view_module": "@jupyter-widgets/base",
            "_view_module_version": "1.2.0",
            "_view_name": "StyleView",
            "description_width": ""
          }
        },
        "0ea37ffd08214d9ebf9d694dd42859ea": {
          "model_module": "@jupyter-widgets/base",
          "model_name": "LayoutModel",
          "model_module_version": "1.2.0",
          "state": {
            "_model_module": "@jupyter-widgets/base",
            "_model_module_version": "1.2.0",
            "_model_name": "LayoutModel",
            "_view_count": null,
            "_view_module": "@jupyter-widgets/base",
            "_view_module_version": "1.2.0",
            "_view_name": "LayoutView",
            "align_content": null,
            "align_items": null,
            "align_self": null,
            "border": null,
            "bottom": null,
            "display": null,
            "flex": null,
            "flex_flow": null,
            "grid_area": null,
            "grid_auto_columns": null,
            "grid_auto_flow": null,
            "grid_auto_rows": null,
            "grid_column": null,
            "grid_gap": null,
            "grid_row": null,
            "grid_template_areas": null,
            "grid_template_columns": null,
            "grid_template_rows": null,
            "height": null,
            "justify_content": null,
            "justify_items": null,
            "left": null,
            "margin": null,
            "max_height": null,
            "max_width": null,
            "min_height": null,
            "min_width": null,
            "object_fit": null,
            "object_position": null,
            "order": null,
            "overflow": null,
            "overflow_x": null,
            "overflow_y": null,
            "padding": null,
            "right": null,
            "top": null,
            "visibility": null,
            "width": null
          }
        },
        "6b1b82d54c534ff5ac33feb1f3d38c0c": {
          "model_module": "@jupyter-widgets/controls",
          "model_name": "ProgressStyleModel",
          "model_module_version": "1.5.0",
          "state": {
            "_model_module": "@jupyter-widgets/controls",
            "_model_module_version": "1.5.0",
            "_model_name": "ProgressStyleModel",
            "_view_count": null,
            "_view_module": "@jupyter-widgets/base",
            "_view_module_version": "1.2.0",
            "_view_name": "StyleView",
            "bar_color": null,
            "description_width": ""
          }
        },
        "f273fc685ad44e26ac0d4b5493db1caf": {
          "model_module": "@jupyter-widgets/base",
          "model_name": "LayoutModel",
          "model_module_version": "1.2.0",
          "state": {
            "_model_module": "@jupyter-widgets/base",
            "_model_module_version": "1.2.0",
            "_model_name": "LayoutModel",
            "_view_count": null,
            "_view_module": "@jupyter-widgets/base",
            "_view_module_version": "1.2.0",
            "_view_name": "LayoutView",
            "align_content": null,
            "align_items": null,
            "align_self": null,
            "border": null,
            "bottom": null,
            "display": null,
            "flex": null,
            "flex_flow": null,
            "grid_area": null,
            "grid_auto_columns": null,
            "grid_auto_flow": null,
            "grid_auto_rows": null,
            "grid_column": null,
            "grid_gap": null,
            "grid_row": null,
            "grid_template_areas": null,
            "grid_template_columns": null,
            "grid_template_rows": null,
            "height": null,
            "justify_content": null,
            "justify_items": null,
            "left": null,
            "margin": null,
            "max_height": null,
            "max_width": null,
            "min_height": null,
            "min_width": null,
            "object_fit": null,
            "object_position": null,
            "order": null,
            "overflow": null,
            "overflow_x": null,
            "overflow_y": null,
            "padding": null,
            "right": null,
            "top": null,
            "visibility": null,
            "width": null
          }
        },
        "70bb72bed2864293959ddabd69a7cc28": {
          "model_module": "@jupyter-widgets/controls",
          "model_name": "DescriptionStyleModel",
          "model_module_version": "1.5.0",
          "state": {
            "_model_module": "@jupyter-widgets/controls",
            "_model_module_version": "1.5.0",
            "_model_name": "DescriptionStyleModel",
            "_view_count": null,
            "_view_module": "@jupyter-widgets/base",
            "_view_module_version": "1.2.0",
            "_view_name": "StyleView",
            "description_width": ""
          }
        }
      }
    }
  },
  "cells": [
    {
      "cell_type": "markdown",
      "metadata": {
        "id": "view-in-github",
        "colab_type": "text"
      },
      "source": [
        "<a href=\"https://colab.research.google.com/github/ngwuprince/5G-Network-Signal-Quality-Transmission-Predictive-Modeling/blob/main/FloodModelNotebook.ipynb\" target=\"_parent\"><img src=\"https://colab.research.google.com/assets/colab-badge.svg\" alt=\"Open In Colab\"/></a>"
      ]
    },
    {
      "cell_type": "markdown",
      "source": [
        "## 0. License and Disclaimer\n",
        "\n",
        "Copyright 2024 DeepMind Technologies Limited\n",
        "\n",
        "Except as set out above in the \"Images ResNet\"\n",
        "and \"Time series ResNet\" sections, all software is licensed under the Apache License, Version 2.0 (Apache 2.0); you may not use this file except in compliance with the Apache 2.0 license. You may obtain a copy of the Apache 2.0 license at:\n",
        "\n",
        "https://www.apache.org/licenses/LICENSE-2.0\n",
        "\n",
        "All other materials are licensed under the Creative Commons Attribution 4.0 International License (CC-BY). You may obtain a copy of the CC-BY license at:\n",
        "\n",
        "https://creativecommons.org/licenses/by/4.0/legalcode\n",
        "\n",
        "Unless required by applicable law or agreed to in writing, all software and materials distributed here under the Apache 2.0 or CC-BY licenses are distributed on an \"AS IS\" BASIS, WITHOUT WARRANTIES OR CONDITIONS OF ANY KIND, either express or implied. See the licenses for the specific language governing permissions and limitations under those licenses.\n",
        "\n",
        "This is not an official Google product.\n"
      ],
      "metadata": {
        "id": "1zzxG8IH22vK"
      }
    },
    {
      "cell_type": "markdown",
      "source": [
        "## 1. Intro\n",
        "\n",
        "### Welcome to my challenge solution for the [Inundata: Mapping Floods in South Africa Challenge](https://zindi.africa/competitions/inundata-mapping-floods-in-south-africa)!\n",
        "\n",
        "The goal of this challenge is to develop a machine learning model capable of identifying the specific day in which an urban flash flood occurred. This will then help to build a historical catalogue of flood events."
      ],
      "metadata": {
        "id": "wrBB3esffjLC"
      }
    },
    {
      "cell_type": "markdown",
      "source": [
        "<a name=\"Dataset\"></a>\n",
        "## 2. Dataset overview\n",
        "\n",
        "For this challenge we have gathered data for different locations in South Africa, each location correspond to an event_id.\n",
        "\n",
        "For each event_id the dataset provided consists of:\n",
        " ,\n",
        "\n",
        "*   Rainfall values stored in `train.csv` file\n",
        "*   Satellite images obtained by Sentinel-2 for five different wavelengths, which correspond to different colours, stored in `composite_images.npz`.\n",
        "* Slope images obtained from NASA topography mission (SRTM) stored in `composite_images.npz`.\n",
        "\n",
        "\n",
        "\n",
        "`test.csv` contains the test set, consisting of 181041 time steps to label as flooded or not flooded, corresponding to 248 events. Note that as output we ask you to return the probability of that event being a flooded event.\n",
        "\n"
      ],
      "metadata": {
        "id": "I6n7LfAkgsK3"
      }
    },
    {
      "cell_type": "markdown",
      "source": [
        "<a name=\"Exploration\"></a>\n",
        "## 3. Data exploration"
      ],
      "metadata": {
        "id": "7hDAjAMzh55Q"
      }
    },
    {
      "cell_type": "markdown",
      "source": [
        "Next, we can load the train and test datasets and look at some of the images."
      ],
      "metadata": {
        "id": "UzLHGrw_h7rm"
      }
    },
    {
      "cell_type": "markdown",
      "source": [
        "First let's intall a set of tools and import some packages."
      ],
      "metadata": {
        "id": "NzFiATB_fT_L"
      }
    },
    {
      "cell_type": "code",
      "execution_count": 1,
      "metadata": {
        "id": "s6b9Nsh1UciH"
      },
      "outputs": [],
      "source": [
        "# !pip install -q ml-collections scikit-image flax jax jaxlib\n",
        "!pip install -q scikit-image flax jax jaxlib"
      ]
    },
    {
      "cell_type": "code",
      "source": [
        "# @title Imports\n",
        "\n",
        "import collections\n",
        "from collections.abc import Callable, Sequence\n",
        "from concurrent import futures\n",
        "from datetime import datetime\n",
        "from functools import partial\n",
        "import math\n",
        "import multiprocessing\n",
        "import os\n",
        "from typing import Any\n",
        "\n",
        "import flax\n",
        "from flax import linen as nn\n",
        "from flax.metrics import tensorboard\n",
        "from flax.training import train_state\n",
        "import jax\n",
        "import jax.numpy as jnp\n",
        "from matplotlib import pyplot as plt\n",
        "import matplotlib.patheffects as pe\n",
        "import numpy as np\n",
        "import optax\n",
        "import pandas as pd\n",
        "from PIL import Image\n",
        "import scipy\n",
        "import seaborn as sns\n",
        "import skimage as ski\n",
        "import tensorflow_datasets as tfds\n",
        "from tqdm.notebook import tqdm\n",
        "\n",
        "from google.colab import drive\n",
        "from google.colab import widgets\n"
      ],
      "metadata": {
        "id": "Enz4IBgMiUKJ"
      },
      "execution_count": 2,
      "outputs": []
    },
    {
      "cell_type": "markdown",
      "source": [
        "You can download the data from the Zindi competition link and store in your drive folder. Then, upload it to this colab or add a shortcut to your Drive folder."
      ],
      "metadata": {
        "id": "ruI52-zz33PN"
      }
    },
    {
      "cell_type": "code",
      "source": [
        "from google.colab import drive\n",
        "drive.mount('/content/drive')"
      ],
      "metadata": {
        "colab": {
          "base_uri": "https://localhost:8080/"
        },
        "id": "sObjEpXf7jfd",
        "outputId": "5b664d61-1a1d-4aac-8df7-c28ebfeb376e"
      },
      "execution_count": 3,
      "outputs": [
        {
          "output_type": "stream",
          "name": "stdout",
          "text": [
            "Mounted at /content/drive\n"
          ]
        }
      ]
    },
    {
      "cell_type": "code",
      "source": [
        "# Replace this path with your path\n",
        "BASE_PATH = '/content/drive/MyDrive/flood_modeling' #@param {type: 'string'}"
      ],
      "metadata": {
        "id": "qtUH9hKvU-hU"
      },
      "execution_count": 4,
      "outputs": []
    },
    {
      "cell_type": "markdown",
      "source": [
        "### Load precipitation data\n"
      ],
      "metadata": {
        "id": "ujfd2waDA023"
      }
    },
    {
      "cell_type": "markdown",
      "source": [
        "Load the precipitation training and test sets.\n",
        "\n",
        "We also create columns to identify events, both by ID (`event_id`) and numerical index (`event_idx`). An event represents a particular location for which precipitation was measured.\n",
        "\n",
        "Lastly, we generate a numerical index of time steps within each event (`event_t`)"
      ],
      "metadata": {
        "id": "DU2SfRNxVfD2"
      }
    },
    {
      "cell_type": "code",
      "source": [
        "data = pd.read_csv(os.path.join(BASE_PATH, 'Train.csv'))\n",
        "data_test = pd.read_csv(os.path.join(BASE_PATH, 'Test.csv'))\n",
        "\n",
        "data['event_id'] = data['event_id'].apply(lambda x: '_'.join(x.split('_')[0:2]))\n",
        "data['event_idx'] = data.groupby('event_id', sort=False).ngroup()\n",
        "data_test['event_id'] = data_test['event_id'].apply(lambda x: '_'.join(x.split('_')[0:2]))\n",
        "data_test['event_idx'] = data_test.groupby('event_id', sort=False).ngroup()\n",
        "\n",
        "data['event_t'] = data.groupby('event_id').cumcount()\n",
        "data_test['event_t'] = data_test.groupby('event_id').cumcount()\n",
        "\n",
        "print(data.head())\n",
        "print(data_test.head())"
      ],
      "metadata": {
        "id": "K4VF2361VYd_",
        "colab": {
          "base_uri": "https://localhost:8080/"
        },
        "outputId": "64ed8e24-02a3-45be-f5e0-8118b5ff369b"
      },
      "execution_count": 5,
      "outputs": [
        {
          "output_type": "stream",
          "name": "stdout",
          "text": [
            "          event_id  precipitation  label  event_idx  event_t\n",
            "0  id_spictby0jfsb       0.000000      0          0        0\n",
            "1  id_spictby0jfsb       0.095438      0          0        1\n",
            "2  id_spictby0jfsb       1.949560      0          0        2\n",
            "3  id_spictby0jfsb       3.232160      0          0        3\n",
            "4  id_spictby0jfsb       0.000000      0          0        4\n",
            "          event_id  precipitation  event_idx  event_t\n",
            "0  id_j7b6sokflo4k        0.00000          0        0\n",
            "1  id_j7b6sokflo4k        3.01864          0        1\n",
            "2  id_j7b6sokflo4k        0.00000          0        2\n",
            "3  id_j7b6sokflo4k       16.61520          0        3\n",
            "4  id_j7b6sokflo4k        2.56706          0        4\n"
          ]
        }
      ]
    },
    {
      "cell_type": "markdown",
      "source": [
        "Each event contains 730 days of precipitation measurements. Somewhere in these 730 days per location/event ID  there could be a flood. Due to the sparsity of identified floods we have created an imbalanced dataset where there are some \"events\" or \"locations\" that do not have a flood in any of the 730 days.\n"
      ],
      "metadata": {
        "id": "1UdE224Rl3Qy"
      }
    },
    {
      "cell_type": "markdown",
      "source": [
        "Check that indeed an event_id has 730 datapoints."
      ],
      "metadata": {
        "id": "NepME4Vvx6z4"
      }
    },
    {
      "cell_type": "code",
      "source": [
        "len(data[data.event_id == 'id_spictby0jfsb'])"
      ],
      "metadata": {
        "id": "v5ipu7gRx5yU",
        "colab": {
          "base_uri": "https://localhost:8080/"
        },
        "outputId": "ae6ae11c-0033-42a5-d7c7-f1e060eee9a7"
      },
      "execution_count": 7,
      "outputs": [
        {
          "output_type": "execute_result",
          "data": {
            "text/plain": [
              "730"
            ]
          },
          "metadata": {},
          "execution_count": 7
        }
      ]
    },
    {
      "cell_type": "markdown",
      "source": [
        "### Load image data"
      ],
      "metadata": {
        "id": "pkfBymipBAr7"
      }
    },
    {
      "cell_type": "markdown",
      "source": [
        "Now, we load the images (includes both training and test sets)."
      ],
      "metadata": {
        "id": "yjNC2X3SgDNs"
      }
    },
    {
      "cell_type": "code",
      "source": [
        "images_path = os.path.join(BASE_PATH, 'composite_images.npz')\n",
        "images = np.load(images_path)\n",
        "print(images)\n",
        "print('The folder contains', len(images), 'images, both for train and test.')\n",
        "print('There are', len(data['event_id'].unique()), 'train event ids and', len(data_test['event_id'].unique()), 'test event ids.')"
      ],
      "metadata": {
        "id": "TBVtgMGOYeAC",
        "colab": {
          "base_uri": "https://localhost:8080/"
        },
        "outputId": "443f633f-59b2-40aa-f6bf-78af3bdcd4af"
      },
      "execution_count": 8,
      "outputs": [
        {
          "output_type": "stream",
          "name": "stdout",
          "text": [
            "NpzFile '/content/drive/MyDrive/flood_modeling/composite_images.npz' with keys: id_rhg5w8vmv3ny, id_rua8ey2jczl0, id_073l04ir88sn, id_wmkfqw7iwjmu, id_heri806er7xw...\n",
            "The folder contains 898 images, both for train and test.\n",
            "There are 674 train event ids and 224 test event ids.\n"
          ]
        }
      ]
    },
    {
      "cell_type": "markdown",
      "source": [
        "The images are annual cloud-free composite images from [Sentinel-2](https://www.esa.int/Applications/Observing_the_Earth/Copernicus/Sentinel-2) satellite imagery. They are of size 128x128 and contain the following 6 channels:\n",
        "* Sentinel-2 B2 (Blue)\n",
        "* Sentinel-2 B3 (Green)\n",
        "* Sentinel-2 B4 (Red)\n",
        "* Sentinel-2 B8 (NIR)\n",
        "* Sentinel-2 B11 (SWIR)\n",
        "* Slope (derived from NASA SRTM)"
      ],
      "metadata": {
        "id": "nje2tiFiE9Fn"
      }
    },
    {
      "cell_type": "code",
      "source": [
        "# Image metadata constants\n",
        "\n",
        "# 5 bands and the slope of each image\n",
        "BAND_NAMES =  ('B2', 'B3', 'B4', 'B8', 'B11', 'slope')\n",
        "# Image shape\n",
        "H, W, NUM_CHANNELS = IMG_DIM = (128, 128, len(BAND_NAMES))"
      ],
      "metadata": {
        "id": "IrGFusEwiayo"
      },
      "execution_count": 9,
      "outputs": []
    },
    {
      "cell_type": "markdown",
      "source": [
        "You can visualize each of the bands of a given event_id"
      ],
      "metadata": {
        "id": "Z7_SLcTujUin"
      }
    },
    {
      "cell_type": "code",
      "source": [
        "event_id = 'id_rhg5w8vmv3ny'\n",
        "\n",
        "num_cols = len(BAND_NAMES)\n",
        "_, axes = plt.subplots(\n",
        "    ncols=num_cols,\n",
        "    figsize=(num_cols * 3.5, 3.5),\n",
        "    facecolor='white',\n",
        ")\n",
        "\n",
        "for band_idx in range(num_cols):\n",
        "  img = images[event_id][..., band_idx]\n",
        "  axes[band_idx].imshow(img, cmap='gray', interpolation='nearest')\n",
        "  axes[band_idx].set_title(f'band {BAND_NAMES[band_idx]}')\n",
        "  axes[band_idx].get_xaxis().set_visible(False)\n",
        "  axes[band_idx].get_yaxis().set_visible(False)"
      ],
      "metadata": {
        "id": "oVjEQM-6idNv",
        "colab": {
          "base_uri": "https://localhost:8080/",
          "height": 183
        },
        "outputId": "45e1d1da-876f-4ee1-aab9-623d6f0c5614"
      },
      "execution_count": 10,
      "outputs": [
        {
          "output_type": "display_data",
          "data": {
            "text/plain": [
              "<Figure size 2100x350 with 6 Axes>"
            ],
            "image/png": "[encoded data removed]"
          },
          "metadata": {}
        }
      ]
    },
    {
      "cell_type": "markdown",
      "source": [
        "### Construct splits and apply preprocessing"
      ],
      "metadata": {
        "id": "ryn-nmjhCVCw"
      }
    },
    {
      "cell_type": "markdown",
      "source": [
        "You can preprocess the image data to make it easier for the neural network model to process. We (approximately) normalize the image bands to make their mean near 0 and their standard deviation near 1, and we decode the slope data (which has been discretized as a 16-bit unsigned int) to radians."
      ],
      "metadata": {
        "id": "s9e5D2IKhyRn"
      }
    },
    {
      "cell_type": "code",
      "source": [
        "sample_image = next(iter(images.values()))\n",
        "assert sample_image.shape == IMG_DIM\n",
        "assert sample_image.dtype == np.uint16\n",
        "_MAX_INT = np.iinfo(np.uint16).max\n",
        "\n",
        "def decode_slope(x: np.ndarray) -> np.ndarray:\n",
        "  # Convert 16-bit discretized slope to float32 radians\n",
        "  return (x / _MAX_INT * (math.pi / 2.0)).astype(np.float32)\n",
        "\n",
        "def normalize(x: np.ndarray, mean: int, std: int) -> np.ndarray:\n",
        "  return (x - mean) / std\n",
        "\n",
        "rough_S2_normalize = partial(normalize, mean=1250, std=500)\n",
        "\n",
        "def preprocess_image(x: np.ndarray) -> np.ndarray:\n",
        "  return np.concatenate([\n",
        "      rough_S2_normalize(x[..., :-1].astype(np.float32)),\n",
        "      decode_slope(x[..., -1:]),\n",
        "  ], axis=-1, dtype=np.float32)\n"
      ],
      "metadata": {
        "id": "eeLYcqhVg4yc"
      },
      "execution_count": 11,
      "outputs": []
    },
    {
      "cell_type": "markdown",
      "source": [
        "You can create a validation-train split and use the validation set to choose your hyperparameters. Here we take 10% of the original training set as validation set."
      ],
      "metadata": {
        "id": "IkD9XFcil0ds"
      }
    },
    {
      "cell_type": "code",
      "source": [
        "rng = np.random.default_rng(seed=0xf100d)\n",
        "\n",
        "event_ids = data['event_id'].unique()\n",
        "new_split = pd.Series(\n",
        "    data=np.random.choice(['train', 'valid'], size=len(event_ids), p=[0.9, 0.1]),\n",
        "    index=event_ids,\n",
        "    name='split',\n",
        ")\n",
        "data_new = data.join(new_split, on='event_id')\n",
        "\n",
        "train_df = data_new[(data_new['split'] == 'train')]\n",
        "train_timeseries = train_df.pivot(index='event_id', columns='event_t', values='precipitation').to_numpy()\n",
        "train_labels = train_df.pivot(index='event_id', columns='event_t', values='label').to_numpy()\n",
        "\n",
        "valid_df = data_new[data_new['split'] == 'valid']\n",
        "valid_timeseries = valid_df.pivot(index='event_id', columns='event_t', values='precipitation').to_numpy()\n",
        "valid_labels = valid_df.pivot(index='event_id', columns='event_t', values='label').to_numpy()\n",
        "\n",
        "# For the test set there are no labels\n",
        "test_timeseries = data_test.pivot(index='event_id', columns='event_t', values='precipitation').to_numpy()\n",
        "\n",
        "event_splits = data_new.groupby('event_id')['split'].first()"
      ],
      "metadata": {
        "id": "ZEeMeXe6ykGw"
      },
      "execution_count": 12,
      "outputs": []
    },
    {
      "cell_type": "markdown",
      "source": [
        "Store the images in separated sets for validation training and test sets."
      ],
      "metadata": {
        "id": "VdRagudPnidK"
      }
    },
    {
      "cell_type": "code",
      "source": [
        "train_images = []\n",
        "valid_images = []\n",
        "test_images = []\n",
        "\n",
        "for event_id in tqdm(event_splits.index):\n",
        "  img = preprocess_image(images[event_id])\n",
        "  if event_splits[event_id] == 'train':\n",
        "    train_images.append(img)\n",
        "  else:\n",
        "    valid_images.append(img)\n",
        "\n",
        "for event_id in tqdm(data_test['event_id'].unique()):\n",
        "  img = preprocess_image(images[event_id])\n",
        "  test_images.append(img)\n",
        "\n",
        "train_images = np.stack(train_images, axis=0)\n",
        "valid_images = np.stack(valid_images, axis=0)\n",
        "test_images = np.stack(test_images, axis=0)"
      ],
      "metadata": {
        "id": "hOtq6pl4k0vK",
        "colab": {
          "base_uri": "https://localhost:8080/",
          "height": 81,
          "referenced_widgets": [
            "c9e1c449d3a24387b5466e9782819d6e",
            "ddfad91fd9b648e4a4f42264c461aab8",
            "c8dae31b1943497ea54f8148fc439abb",
            "738863cfc18a4d1cb3a20a1ff34f29a9",
            "408227fdef68419193c895c640cd2ca2",
            "4cce244150184ef8b43468691a8436b2",
            "b6fa5a344ba34b0999c29acebfabfbad",
            "8500447203e648bb8a8de4178c17d6ad",
            "9fc4dddd24524d89920fb7809ad16a87",
            "1cfd6a6fbd2a4e00a505089c2f54c84a",
            "6af531bdefc44e728e6ff9998e78bee9",
            "11d42f89d35b4eeb9f7a1063aebf915b",
            "167e3a3c32e04cd1a7dbdbe88539e07f",
            "fc6e7789e8a340bfa4838b6e835674b0",
            "bceced1ecc3a4a9f9b6a2c1c9d52a73b",
            "f7beb22fe3d149478dc5ecf1afd42ee9",
            "755a8f4fd01c438390fb1e90c161e7ec",
            "0b1ddd7ed6504212a4141f40d4f44381",
            "0ea37ffd08214d9ebf9d694dd42859ea",
            "6b1b82d54c534ff5ac33feb1f3d38c0c",
            "f273fc685ad44e26ac0d4b5493db1caf",
            "70bb72bed2864293959ddabd69a7cc28"
          ]
        },
        "outputId": "6e96224e-b6c0-4d62-ea6d-676fe7bdebbf"
      },
      "execution_count": 13,
      "outputs": [
        {
          "output_type": "display_data",
          "data": {
            "text/plain": [
              "  0%|          | 0/674 [00:00<?, ?it/s]"
            ],
            "application/vnd.jupyter.widget-view+json": {
              "version_major": 2,
              "version_minor": 0,
              "model_id": "c9e1c449d3a24387b5466e9782819d6e"
            }
          },
          "metadata": {}
        },
        {
          "output_type": "display_data",
          "data": {
            "text/plain": [
              "  0%|          | 0/224 [00:00<?, ?it/s]"
            ],
            "application/vnd.jupyter.widget-view+json": {
              "version_major": 2,
              "version_minor": 0,
              "model_id": "11d42f89d35b4eeb9f7a1063aebf915b"
            }
          },
          "metadata": {}
        }
      ]
    },
    {
      "cell_type": "markdown",
      "source": [
        "Check that the sizes make sense."
      ],
      "metadata": {
        "id": "GhgoWJ8On2rQ"
      }
    },
    {
      "cell_type": "code",
      "source": [
        "print(f'{train_timeseries.shape=}')\n",
        "print(f'    {train_images.shape=}')\n",
        "print(f'    {train_labels.shape=}')"
      ],
      "metadata": {
        "id": "Xfw6d5-Cn2KA",
        "colab": {
          "base_uri": "https://localhost:8080/"
        },
        "outputId": "413fe37f-0694-46fc-b6df-852557716022"
      },
      "execution_count": 14,
      "outputs": [
        {
          "output_type": "stream",
          "name": "stdout",
          "text": [
            "train_timeseries.shape=(609, 730)\n",
            "    train_images.shape=(609, 128, 128, 6)\n",
            "    train_labels.shape=(609, 730)\n"
          ]
        }
      ]
    },
    {
      "cell_type": "code",
      "source": [
        "print(f'{valid_timeseries.shape=}')\n",
        "print(f'    {valid_images.shape=}')\n",
        "print(f'    {valid_labels.shape=}')"
      ],
      "metadata": {
        "id": "mZvFgnR88DsA",
        "colab": {
          "base_uri": "https://localhost:8080/"
        },
        "outputId": "9456ca2b-fb88-44f1-cc2f-5b4c7b074f05"
      },
      "execution_count": 15,
      "outputs": [
        {
          "output_type": "stream",
          "name": "stdout",
          "text": [
            "valid_timeseries.shape=(65, 730)\n",
            "    valid_images.shape=(65, 128, 128, 6)\n",
            "    valid_labels.shape=(65, 730)\n"
          ]
        }
      ]
    },
    {
      "cell_type": "code",
      "source": [
        "print(f'{test_timeseries.shape=}')\n",
        "print(f'    {test_images.shape=}')\n"
      ],
      "metadata": {
        "id": "1iz8MQngWvvx",
        "colab": {
          "base_uri": "https://localhost:8080/"
        },
        "outputId": "1f7a081b-d576-49c1-8e4d-87ca27d78ba3"
      },
      "execution_count": 16,
      "outputs": [
        {
          "output_type": "stream",
          "name": "stdout",
          "text": [
            "test_timeseries.shape=(224, 730)\n",
            "    test_images.shape=(224, 128, 128, 6)\n"
          ]
        }
      ]
    },
    {
      "cell_type": "markdown",
      "source": [
        "# Training a model"
      ],
      "metadata": {
        "id": "7w8YDvWOn_Z3"
      }
    },
    {
      "cell_type": "markdown",
      "source": [
        "This is a multimodal task, as you have two different types of inputs: 1D vectors corresponding to precipitation and 2D matrices corresponding to satellite images.\n",
        "\n",
        "To be able to use the two input modalities, we propose here to run two different models on each type of input to obtain as output an embedding for each. Then, the two embeddings are concatenated to run a final dense layer which outputs a single value. This value is then passed to the loss function that uses a sigmoid binary cross entropy, suitable for a classification task with two classes: flooded true or flooded false.\n",
        "\n",
        "\n",
        "As mentioned, we are using binary cross entropy loss, you can read more about it here: https://towardsdatascience.com/understanding-binary-cross-entropy-log-loss-a-visual-explanation-a3ac6025181a"
      ],
      "metadata": {
        "id": "qLwx1fcKpBJj"
      }
    },
    {
      "cell_type": "markdown",
      "source": [
        "We use JAX and Flax to implement sample neural network models. Read more about these libraries here https://flax-linen.readthedocs.io/en/latest/guides/index.html.\n",
        "\n",
        "\n",
        "These are just some examples, feel free to implement better models and tune the hyperparameters!"
      ],
      "metadata": {
        "id": "fLWLyv31wnvE"
      }
    },
    {
      "cell_type": "markdown",
      "source": [
        "## Images ResNet"
      ],
      "metadata": {
        "id": "FqDsocBw5AT3"
      }
    },
    {
      "cell_type": "markdown",
      "source": [
        "Copyright 2024 The Flax Authors, licensed under the Apache License, Version 2.0 (Apache 2.0) available at https://www.apache.org/licenses/LICENSE-2.0. Code has been modified from https://github.com/google/flax/blob/main/examples/imagenet/models.py"
      ],
      "metadata": {
        "id": "UDQkinvk2D7G"
      }
    },
    {
      "cell_type": "markdown",
      "source": [
        "For the images, we use a ResNet model, which was originally introduced in https://arxiv.org/abs/1512.03385"
      ],
      "metadata": {
        "id": "m_-8v_cCwUBI"
      }
    },
    {
      "cell_type": "code",
      "source": [
        "\"\"\"Flax implementation of ResNet V1.5, without output head to return embedding.\"\"\"\n",
        "ModuleDef = Any\n",
        "\n",
        "\n",
        "class ResNetBlock(nn.Module):\n",
        "  \"\"\"ResNet block.\"\"\"\n",
        "\n",
        "  filters: int\n",
        "  conv: ModuleDef\n",
        "  norm: ModuleDef\n",
        "  act: Callable\n",
        "  strides: tuple[int, int] = (1, 1)\n",
        "\n",
        "  @nn.compact\n",
        "  def __call__(\n",
        "      self,\n",
        "      x,\n",
        "  ):\n",
        "    residual = x\n",
        "    y = self.conv(self.filters, (3, 3), self.strides)(x)\n",
        "    y = self.norm()(y)\n",
        "    y = self.act(y)\n",
        "    y = self.conv(self.filters, (3, 3))(y)\n",
        "    y = self.norm(scale_init=nn.initializers.zeros_init())(y)\n",
        "\n",
        "    if residual.shape != y.shape:\n",
        "      residual = self.conv(\n",
        "          self.filters, (1, 1), self.strides, name='conv_proj'\n",
        "      )(residual)\n",
        "      residual = self.norm(name='norm_proj')(residual)\n",
        "\n",
        "    return self.act(residual + y)\n",
        "\n",
        "\n",
        "class ResNet(nn.Module):\n",
        "  \"\"\"ResNetV1.5.\"\"\"\n",
        "\n",
        "  stage_sizes: Sequence[int]\n",
        "  block_cls: ModuleDef\n",
        "  num_filters: int = 64\n",
        "  dtype: Any = jnp.float32\n",
        "  act: Callable = nn.relu\n",
        "  conv: ModuleDef = nn.Conv\n",
        "\n",
        "  @nn.compact\n",
        "  def __call__(self, x, is_training: bool = True):\n",
        "    conv = partial(self.conv, use_bias=False, dtype=self.dtype)\n",
        "    norm = partial(\n",
        "        nn.BatchNorm,\n",
        "        use_running_average=not is_training,\n",
        "        momentum=0.9,\n",
        "        epsilon=1e-5,\n",
        "        dtype=self.dtype,\n",
        "    )\n",
        "\n",
        "    x = conv(\n",
        "        self.num_filters,\n",
        "        (7, 7),\n",
        "        (2, 2),\n",
        "        padding=[(3, 3), (3, 3)],\n",
        "        name='conv_init',\n",
        "    )(x)\n",
        "    x = norm(name='bn_init')(x)\n",
        "    x = nn.relu(x)\n",
        "    x = nn.max_pool(x, (3, 3), strides=(2, 2), padding='SAME')\n",
        "    for i, block_size in enumerate(self.stage_sizes):\n",
        "      for j in range(block_size):\n",
        "        strides = (2, 2) if i > 0 and j == 0 else (1, 1)\n",
        "        x = self.block_cls(\n",
        "            self.num_filters * 2**i,\n",
        "            strides=strides,\n",
        "            conv=conv,\n",
        "            norm=norm,\n",
        "            act=self.act,\n",
        "        )(x)\n",
        "    x = jnp.mean(x, axis=(1, 2))\n",
        "    return x"
      ],
      "metadata": {
        "id": "Jul-cBH3oAe5"
      },
      "execution_count": 17,
      "outputs": []
    },
    {
      "cell_type": "code",
      "source": [
        "ResNet18 = partial(ResNet, stage_sizes=[2, 2, 2, 2], block_cls=ResNetBlock)"
      ],
      "metadata": {
        "id": "qROi5y7W43iv"
      },
      "execution_count": 18,
      "outputs": []
    },
    {
      "cell_type": "markdown",
      "source": [
        "## Time series ResNet"
      ],
      "metadata": {
        "id": "wU7_-5On5FnW"
      }
    },
    {
      "cell_type": "markdown",
      "source": [
        "Copyright 2024 The Flax Authors, licensed under the Apache License, Version 2.0 (Apache 2.0) available at https://www.apache.org/licenses/LICENSE-2.0. Code has been modified from https://github.com/google/flax/blob/main/examples/imagenet/models.py"
      ],
      "metadata": {
        "id": "867fw4pH2ARQ"
      }
    },
    {
      "cell_type": "markdown",
      "source": [
        "For the rainfall data, we use an adaptation of the previous model for one dimensional data."
      ],
      "metadata": {
        "id": "Nv0ssmvewd6Q"
      }
    },
    {
      "cell_type": "code",
      "source": [
        "\"\"\"Adaptation of ResNet for 1D time series, without output head (returns embedding).\"\"\"\n",
        "\n",
        "class ResNetBlock1d(nn.Module):\n",
        "  \"\"\"ResNet block.\"\"\"\n",
        "\n",
        "  filters: int\n",
        "  conv: ModuleDef\n",
        "  norm: ModuleDef\n",
        "  act: Callable\n",
        "  strides: tuple[int] = (1,)\n",
        "\n",
        "  @nn.compact\n",
        "  def __call__(\n",
        "      self,\n",
        "      x,\n",
        "  ):\n",
        "    residual = x\n",
        "    y = self.conv(self.filters, (3,), self.strides, padding='SAME')(x)\n",
        "    y = self.norm()(y)\n",
        "    y = self.act(y)\n",
        "    y = self.conv(self.filters, (3,), padding='SAME')(y)\n",
        "    y = self.norm(scale_init=nn.initializers.zeros_init())(y)\n",
        "\n",
        "    if residual.shape != y.shape:\n",
        "      residual = self.conv(\n",
        "          self.filters, (1,), self.strides, name='conv_proj'\n",
        "      )(residual)\n",
        "      residual = self.norm(name='norm_proj')(residual)\n",
        "\n",
        "    return self.act(residual + y)\n",
        "\n",
        "\n",
        "class ResNet1d(nn.Module):\n",
        "  stage_sizes: Sequence[int]\n",
        "  block_cls: ModuleDef\n",
        "  num_filters: int = 64\n",
        "  dtype: Any = jnp.float32\n",
        "  act: Callable = nn.relu\n",
        "  conv: ModuleDef = nn.Conv\n",
        "  embed: bool = True\n",
        "\n",
        "  @nn.compact\n",
        "  def __call__(self, x, is_training: bool = True):\n",
        "    conv = partial(self.conv, use_bias=False, dtype=self.dtype)\n",
        "    norm = partial(\n",
        "        nn.BatchNorm,\n",
        "        use_running_average=not is_training,\n",
        "        momentum=0.9,\n",
        "        epsilon=1e-5,\n",
        "        dtype=self.dtype,\n",
        "    )\n",
        "    x = jnp.expand_dims(x, axis=-1)  # add a virtual 'channel' dimension\n",
        "    x = conv(\n",
        "        self.num_filters,\n",
        "        (7,),\n",
        "        (1,),\n",
        "        padding='SAME',\n",
        "        name='conv_init',\n",
        "    )(x)\n",
        "    x = norm(name='bn_init')(x)\n",
        "    x = nn.relu(x)\n",
        "    x = nn.max_pool(x, (3,), strides=(1,), padding='SAME')\n",
        "    for i, block_size in enumerate(self.stage_sizes):\n",
        "      for j in range(block_size):\n",
        "        x = self.block_cls(\n",
        "            self.num_filters * 2**i,\n",
        "            strides=(1,),\n",
        "            conv=conv,\n",
        "            norm=norm,\n",
        "            act=self.act,\n",
        "        )(x)\n",
        "    # linear project down to a single logit per timestep\n",
        "    return x  # (B, T, C)"
      ],
      "metadata": {
        "id": "8orWU8tR5FGf"
      },
      "execution_count": 19,
      "outputs": []
    },
    {
      "cell_type": "code",
      "source": [
        "ResNet1d18 = partial(ResNet1d, stage_sizes=[2, 2, 2, 2], block_cls=ResNetBlock1d)"
      ],
      "metadata": {
        "id": "Xq-n9W865LVp"
      },
      "execution_count": 20,
      "outputs": []
    },
    {
      "cell_type": "markdown",
      "source": [
        "## Combined model"
      ],
      "metadata": {
        "id": "cvoQ4jJL5f_A"
      }
    },
    {
      "cell_type": "code",
      "source": [
        "\"\"\"Combined time series + image model.\"\"\"\n",
        "\n",
        "class CombinedModel(nn.Module):\n",
        "  \"\"\"Takes two embedding models and passes them through a single output head.\"\"\"\n",
        "  timeseries_model_cls: ModuleDef\n",
        "  images_model_cls: ModuleDef\n",
        "  num_classes: int\n",
        "  dtype: Any = jnp.float32\n",
        "  use_images: bool = True\n",
        "\n",
        "  @nn.compact\n",
        "  def __call__(\n",
        "      self, x: tuple[jnp.ndarray, jnp.ndarray], is_training: bool = True\n",
        "  ):\n",
        "    x_timeseries, x_images = x\n",
        "    T = x_timeseries.shape[1]\n",
        "\n",
        "    timeseries_model = self.timeseries_model_cls()\n",
        "    logits = timeseries_model(x_timeseries, is_training=is_training)  # (B, T, C)\n",
        "\n",
        "    if self.use_images:\n",
        "      images_model = self.images_model_cls()\n",
        "      x_images = images_model(x_images, is_training=is_training)\n",
        "      # tile to match time axis\n",
        "      x_images = jnp.tile(jnp.expand_dims(x_images, axis=1), (1, T, 1))\n",
        "\n",
        "\n",
        "      logits = jnp.concatenate([logits, x_images], axis=-1)\n",
        "\n",
        "\n",
        "    x = nn.Conv(1, (1,), padding='SAME', name='output_head')(logits)\n",
        "    x = jnp.squeeze(x, axis=-1)\n",
        "    x = jnp.asarray(x, self.dtype)\n",
        "    return x"
      ],
      "metadata": {
        "id": "IKFJ_pVR5X6M"
      },
      "execution_count": 21,
      "outputs": []
    },
    {
      "cell_type": "code",
      "source": [
        "NUM_CLASSES = 2  # Flood / No flood.\n",
        "\n",
        "def get_datasets():\n",
        "  \"\"\"Load train and test datasets into memory.\"\"\"\n",
        "  train_ds = {\n",
        "      'timeseries': train_timeseries,\n",
        "      'image': train_images,\n",
        "      'label': train_labels,\n",
        "  }\n",
        "  valid_ds = {\n",
        "      'timeseries': valid_timeseries,\n",
        "      'image': valid_images,\n",
        "      'label': valid_labels,\n",
        "  }\n",
        "\n",
        "  test_ds = {\n",
        "      'timeseries': test_timeseries,\n",
        "      'image': test_images,\n",
        "  }\n",
        "  return train_ds, valid_ds, test_ds"
      ],
      "metadata": {
        "id": "qk0WXLzH5eIn"
      },
      "execution_count": 22,
      "outputs": []
    },
    {
      "cell_type": "markdown",
      "source": [
        "These are some functions to analyse the outputs. They compute accuracy, mean absolute deviation and the accuracy after choosing a set of k more likely flooded time steps."
      ],
      "metadata": {
        "id": "CKMTqUaT6H2n"
      }
    },
    {
      "cell_type": "code",
      "source": [
        "def get_metrics(logits: jnp.ndarray, labels: jnp.ndarray):\n",
        "  # Argmax chooses the most probable time step to be flooded\n",
        "  labels = jnp.argmax(labels, axis=-1)\n",
        "  logits = jnp.argmax(logits, axis=-1)\n",
        "  accuracy = jnp.mean(labels == logits)\n",
        "  mad = jnp.mean(jnp.abs(labels - logits))\n",
        "  return accuracy, mad\n",
        "\n",
        "\n",
        "def get_accuracy_kth(logits: jnp.ndarray, labels: jnp.ndarray, first_k: int):\n",
        "  # This method chooses the k-th most probable time steps to be flooded.\n",
        "  # If k=1 this is equivalent to accuracy from `get_metrics`\n",
        "  idx_sorted_labels = jnp.argsort(labels, axis=-1, descending=True)\n",
        "  idx_sorted_logits = jnp.argsort(logits, axis=-1, descending=True)\n",
        "  labels_k = idx_sorted_labels[:,:first_k]\n",
        "  logits_k = idx_sorted_logits[:,:first_k]\n",
        "  accuracy_kth = jnp.mean(labels_k == logits_k)\n",
        "  return accuracy_kth"
      ],
      "metadata": {
        "id": "-p9qwFdO5qnd"
      },
      "execution_count": 23,
      "outputs": []
    },
    {
      "cell_type": "markdown",
      "source": [
        "We can make predictions on new examples by passing the model parameters, state and preprocessed inputs to the `apply` function:"
      ],
      "metadata": {
        "id": "rreakDs1vPUr"
      }
    },
    {
      "cell_type": "code",
      "source": [
        "class TrainState(train_state.TrainState):\n",
        "  batch_stats: Any\n",
        "\n",
        "\n",
        "def get_prediction(state, inputs, is_training=True):\n",
        "  logits, new_model_state = state.apply_fn(\n",
        "      {'params': state.params, 'batch_stats': state.batch_stats}, inputs,\n",
        "      is_training=is_training, mutable=['batch_stats'],\n",
        "      )\n",
        "  return new_model_state, logits\n",
        "\n",
        "@partial(jax.jit, static_argnames=['is_training'])\n",
        "def apply_model(state, inputs, labels, is_training=True):\n",
        "  \"\"\"Computes gradients, loss and accuracy for a single batch.\"\"\"\n",
        "\n",
        "  def loss_fn(params):\n",
        "    logits, new_model_state = state.apply_fn(\n",
        "        {'params': params, 'batch_stats': state.batch_stats},\n",
        "        inputs,\n",
        "        is_training=is_training,\n",
        "        mutable=['batch_stats'],\n",
        "    )\n",
        "    losses = optax.sigmoid_binary_cross_entropy(logits=logits, labels=labels)\n",
        "    loss = jnp.mean(losses)\n",
        "    return loss, (new_model_state, logits, losses)\n",
        "\n",
        "  grad_fn = jax.value_and_grad(loss_fn, has_aux=True)\n",
        "  (loss, (new_model_state, logits, losses)), grads = grad_fn(state.params)\n",
        "  # Logits shape is: batch size x number of time steps\n",
        "\n",
        "  accuracy, mad = get_metrics(logits, labels)\n",
        "  accuracy_kth = get_accuracy_kth(logits, labels, first_k=1)\n",
        "  if is_training is False:\n",
        "    # for validation\n",
        "    return (\n",
        "        grads,\n",
        "        new_model_state['batch_stats'],\n",
        "        loss,\n",
        "        accuracy,\n",
        "        mad,\n",
        "        accuracy_kth,\n",
        "        losses,)\n",
        "  else:\n",
        "    return (\n",
        "        grads,\n",
        "        new_model_state['batch_stats'],\n",
        "        loss,\n",
        "        accuracy,\n",
        "        mad,\n",
        "        accuracy_kth,\n",
        "    )\n",
        "\n",
        "\n",
        "@jax.jit\n",
        "def update_model(state, grads, batch_stats):\n",
        "  return state.apply_gradients(grads=grads, batch_stats=batch_stats)\n",
        "\n",
        "\n",
        "def train_epoch(state, train_ds, batch_size, rng):\n",
        "  \"\"\"Train for a single epoch.\"\"\"\n",
        "  train_ds_size = len(train_ds['timeseries'])\n",
        "  steps_per_epoch = train_ds_size // batch_size\n",
        "\n",
        "  perms = jax.random.permutation(rng, len(train_ds['timeseries']))\n",
        "  perms = perms[: steps_per_epoch * batch_size]  # skip incomplete batch\n",
        "  perms = perms.reshape((steps_per_epoch, batch_size))\n",
        "\n",
        "  epoch_metrics = collections.defaultdict(list)\n",
        "\n",
        "  for perm in perms:\n",
        "    batch_timeseries = train_ds['timeseries'][perm, ...]\n",
        "    # print(f'{batch_timeseries.shape=}')\n",
        "    batch_images = train_ds['image'][perm, ...]\n",
        "    # print(f'{batch_images.shape=}')\n",
        "    batch_labels = train_ds['label'][perm, ...]\n",
        "    batch_inputs = (batch_timeseries, batch_images)\n",
        "    grads, batch_stats, loss, accuracy, mad, accuracy_kth = apply_model(\n",
        "        state, batch_inputs, batch_labels)\n",
        "    state = update_model(state, grads, batch_stats)\n",
        "    epoch_metrics['loss'].append(loss)\n",
        "    epoch_metrics['accuracy'].append(accuracy)\n",
        "    epoch_metrics['accuracy_kth'].append(accuracy_kth)\n",
        "    epoch_metrics['mad'].append(mad)\n",
        "\n",
        "  n = len(epoch_metrics['loss'])\n",
        "\n",
        "  return (\n",
        "      state,\n",
        "      sum(epoch_metrics['loss']) / n,\n",
        "      sum(epoch_metrics['accuracy']) / n,\n",
        "      sum(epoch_metrics['mad']) / n,\n",
        "      sum(epoch_metrics['accuracy_kth']) / n,\n",
        "  )\n",
        "\n",
        "\n",
        "def create_train_state(rng, use_images: bool):\n",
        "  \"\"\"Creates initial `TrainState`.\"\"\"\n",
        "  model = CombinedModel(\n",
        "      timeseries_model_cls=partial(ResNet1d18, num_filters=8),\n",
        "      images_model_cls=partial(ResNet18, num_filters=8),\n",
        "      num_classes=NUM_CLASSES,\n",
        "      use_images=use_images,\n",
        "  )\n",
        "  dummy_inputs = (\n",
        "      jnp.ones([1, train_timeseries.shape[-1]]),\n",
        "      jnp.ones([1, H, W, NUM_CHANNELS]),\n",
        "  )\n",
        "  variables = model.init(rng, dummy_inputs)\n",
        "  tx = optax.adamw(1e-3)\n",
        "  return TrainState.create(\n",
        "      params=variables['params'],\n",
        "      batch_stats=variables['batch_stats'],\n",
        "      apply_fn=model.apply,\n",
        "      tx=tx,\n",
        "  )"
      ],
      "metadata": {
        "id": "7-tEpyhp6FwW"
      },
      "execution_count": 24,
      "outputs": []
    },
    {
      "cell_type": "markdown",
      "source": [
        "Our `train_and_evaluate` function takes care of the training loop. We apply our model, compute the losses and update the weights. You can see how accuracy improves as epochs move forward. The function outputs the losses so that you can visualize them afterwards."
      ],
      "metadata": {
        "id": "UwI_vdxIvu25"
      }
    },
    {
      "cell_type": "code",
      "source": [
        "def train_and_evaluate(\n",
        "    num_epochs: int,\n",
        "    batch_size: int,\n",
        "    use_images: bool,\n",
        ") -> train_state.TrainState:\n",
        "  \"\"\"Execute model training and evaluation loop.\n",
        "\n",
        "  Args:\n",
        "    config: Hyperparameter configuration for training and evaluation.\n",
        "    workdir: Directory where the tensorboard  summaries are written to.\n",
        "\n",
        "  Returns:\n",
        "    The train state (which includes the `.params`).\n",
        "  \"\"\"\n",
        "  train_ds, valid_ds, _ = get_datasets()\n",
        "  rng = jax.random.key(0)\n",
        "\n",
        "  rng, init_rng = jax.random.split(rng)\n",
        "  state = create_train_state(init_rng, use_images)\n",
        "\n",
        "  for epoch in range(1, num_epochs + 1):\n",
        "    rng, input_rng = jax.random.split(rng)\n",
        "    state, train_loss, train_acc, train_mad, train_acc_kth = (\n",
        "        train_epoch(state, train_ds, batch_size, input_rng)\n",
        "    )\n",
        "    valid_inputs = (valid_ds['timeseries'], valid_ds['image'])\n",
        "    _, _, valid_loss, valid_acc, valid_mad, valid_acc_kth, losses = (\n",
        "        apply_model(\n",
        "            state, valid_inputs, valid_ds['label'], is_training=False,\n",
        "        )\n",
        "    )\n",
        "\n",
        "    if epoch == 1 or epoch % 10 == 0 or epoch == num_epochs:\n",
        "      print(\n",
        "          'epoch:% 3d \\n'\n",
        "          'train loss: %.4f train_acc: %2f train_mad: %2f train_kth_acc: %2f\\n'\n",
        "          'validation loss: %.4f valid_acc: %2f valid_mad: %2f\\n valid_kth_acc: %2f'\n",
        "          % (\n",
        "              epoch,\n",
        "              train_loss,\n",
        "              train_acc,\n",
        "              train_mad,\n",
        "              train_acc_kth,\n",
        "              valid_loss,\n",
        "              valid_acc,\n",
        "              valid_mad,\n",
        "              valid_acc_kth,\n",
        "          )\n",
        "          )\n",
        "  return state, losses"
      ],
      "metadata": {
        "id": "lPsv7N09vr9p"
      },
      "execution_count": 25,
      "outputs": []
    },
    {
      "cell_type": "markdown",
      "source": [
        "You can decide to train using images and rainfall data or only use rainfall data. Is the performance affected?"
      ],
      "metadata": {
        "id": "Dt4lBSHOwLL_"
      }
    },
    {
      "cell_type": "code",
      "source": [
        "final_state, losses = train_and_evaluate(\n",
        "    num_epochs=150,\n",
        "    batch_size=64,\n",
        "    use_images=True,\n",
        ")"
      ],
      "metadata": {
        "id": "Q6Wi-rTN6vFX",
        "colab": {
          "base_uri": "https://localhost:8080/"
        },
        "outputId": "a243910c-2d75-4223-9a25-eed1d9e8f43b"
      },
      "execution_count": 26,
      "outputs": [
        {
          "output_type": "stream",
          "name": "stdout",
          "text": [
            "epoch:  1 \n",
            "train loss: 0.5535 train_acc: 0.013889 train_mad: 276.251740 train_kth_acc: 0.013889\n",
            "validation loss: 0.5562 valid_acc: 0.061538 valid_mad: 260.569244\n",
            " valid_kth_acc: 0.061538\n",
            "epoch: 10 \n",
            "train loss: 0.0176 train_acc: 0.053819 train_mad: 272.796875 train_kth_acc: 0.053819\n",
            "validation loss: 0.0170 valid_acc: 0.046154 valid_mad: 263.861542\n",
            " valid_kth_acc: 0.046154\n",
            "epoch: 20 \n",
            "train loss: 0.0078 train_acc: 0.074653 train_mad: 268.753479 train_kth_acc: 0.074653\n",
            "validation loss: 0.0078 valid_acc: 0.046154 valid_mad: 274.892303\n",
            " valid_kth_acc: 0.046154\n",
            "epoch: 30 \n",
            "train loss: 0.0056 train_acc: 0.086806 train_mad: 265.263885 train_kth_acc: 0.086806\n",
            "validation loss: 0.0057 valid_acc: 0.046154 valid_mad: 272.384613\n",
            " valid_kth_acc: 0.046154\n",
            "epoch: 40 \n",
            "train loss: 0.0046 train_acc: 0.100694 train_mad: 258.154510 train_kth_acc: 0.100694\n",
            "validation loss: 0.0050 valid_acc: 0.076923 valid_mad: 274.123077\n",
            " valid_kth_acc: 0.076923\n",
            "epoch: 50 \n",
            "train loss: 0.0040 train_acc: 0.121528 train_mad: 259.295135 train_kth_acc: 0.121528\n",
            "validation loss: 0.0047 valid_acc: 0.076923 valid_mad: 258.015381\n",
            " valid_kth_acc: 0.076923\n",
            "epoch: 60 \n",
            "train loss: 0.0035 train_acc: 0.152778 train_mad: 244.817703 train_kth_acc: 0.152778\n",
            "validation loss: 0.0045 valid_acc: 0.061538 valid_mad: 290.123077\n",
            " valid_kth_acc: 0.061538\n",
            "epoch: 70 \n",
            "train loss: 0.0031 train_acc: 0.178819 train_mad: 242.930557 train_kth_acc: 0.178819\n",
            "validation loss: 0.0046 valid_acc: 0.061538 valid_mad: 275.276917\n",
            " valid_kth_acc: 0.061538\n",
            "epoch: 80 \n",
            "train loss: 0.0028 train_acc: 0.190972 train_mad: 232.317703 train_kth_acc: 0.190972\n",
            "validation loss: 0.0046 valid_acc: 0.061538 valid_mad: 299.923065\n",
            " valid_kth_acc: 0.061538\n",
            "epoch: 90 \n",
            "train loss: 0.0025 train_acc: 0.215278 train_mad: 224.359375 train_kth_acc: 0.215278\n",
            "validation loss: 0.0048 valid_acc: 0.076923 valid_mad: 269.969238\n",
            " valid_kth_acc: 0.076923\n",
            "epoch: 100 \n",
            "train loss: 0.0022 train_acc: 0.251736 train_mad: 220.026047 train_kth_acc: 0.251736\n",
            "validation loss: 0.0049 valid_acc: 0.061538 valid_mad: 293.507690\n",
            " valid_kth_acc: 0.061538\n",
            "epoch: 110 \n",
            "train loss: 0.0019 train_acc: 0.276042 train_mad: 216.506943 train_kth_acc: 0.276042\n",
            "validation loss: 0.0049 valid_acc: 0.061538 valid_mad: 279.399994\n",
            " valid_kth_acc: 0.061538\n",
            "epoch: 120 \n",
            "train loss: 0.0017 train_acc: 0.282986 train_mad: 218.784729 train_kth_acc: 0.282986\n",
            "validation loss: 0.0052 valid_acc: 0.061538 valid_mad: 251.953842\n",
            " valid_kth_acc: 0.061538\n",
            "epoch: 130 \n",
            "train loss: 0.0017 train_acc: 0.295139 train_mad: 204.000000 train_kth_acc: 0.295139\n",
            "validation loss: 0.0052 valid_acc: 0.076923 valid_mad: 250.523071\n",
            " valid_kth_acc: 0.076923\n",
            "epoch: 140 \n",
            "train loss: 0.0014 train_acc: 0.319444 train_mad: 204.046875 train_kth_acc: 0.319444\n",
            "validation loss: 0.0054 valid_acc: 0.061538 valid_mad: 259.969238\n",
            " valid_kth_acc: 0.061538\n",
            "epoch: 150 \n",
            "train loss: 0.0013 train_acc: 0.324653 train_mad: 213.395828 train_kth_acc: 0.324653\n",
            "validation loss: 0.0052 valid_acc: 0.076923 valid_mad: 240.353851\n",
            " valid_kth_acc: 0.076923\n"
          ]
        }
      ]
    },
    {
      "cell_type": "markdown",
      "source": [
        "These are some initial plots to help you visualize the outputs of your models. The blue values show the binary cross entropy loss per time step, the highest value will correspond to the most likely time to have a flood. The red curve correspond to the labels: a delta function that has a peak at the flooded time step. Remember, not all the event ids contain floods."
      ],
      "metadata": {
        "id": "i0vseMWmwUhr"
      }
    },
    {
      "cell_type": "code",
      "source": [
        "event_id = 0\n",
        "x = np.arange(len(losses[event_id,:]))\n",
        "plt.title('Validation set results')\n",
        "plt.plot(x,losses[event_id,:], label='Predicted losses of flood', color='blue')\n",
        "plt.plot(x,valid_labels[event_id,:], label='Label for flooding event',color='red')\n",
        "plt.ylabel('Losses value for flood probability')\n",
        "plt.xlabel('event_t')\n",
        "plt.legend()\n",
        "plt.show()"
      ],
      "metadata": {
        "id": "jO9d3iHJ0qUF",
        "colab": {
          "base_uri": "https://localhost:8080/",
          "height": 472
        },
        "outputId": "46e40115-7209-4ec3-d330-88ccf58fcbbf"
      },
      "execution_count": 27,
      "outputs": [
        {
          "output_type": "display_data",
          "data": {
            "text/plain": [
              "<Figure size 640x480 with 1 Axes>"
            ],
            "image/png": "[encoded data removed]"
          },
          "metadata": {}
        }
      ]
    },
    {
      "cell_type": "markdown",
      "source": [
        "To run on the test set it is enough to call `get_prediction` function which applies the model given a set of inputs."
      ],
      "metadata": {
        "id": "wDtfyF3mmye7"
      }
    },
    {
      "cell_type": "code",
      "source": [
        "# Logits for the test set\n",
        "_, _, test_ds = get_datasets()\n",
        "test_inputs = (test_ds['timeseries'], test_ds['image'])\n",
        "_, logits = get_prediction(final_state, test_inputs,is_training=False,)"
      ],
      "metadata": {
        "id": "9rlwtY9smzaR"
      },
      "execution_count": 28,
      "outputs": []
    },
    {
      "cell_type": "markdown",
      "source": [
        "This plot contains the same information as the blue curve of the previous one, only this time you do not have the labels, as these are the values you need to submit to Zindi."
      ],
      "metadata": {
        "id": "fJ7OaVgtw3a0"
      }
    },
    {
      "cell_type": "code",
      "source": [
        "plt.plot(x,logits[event_id,:], color='green')\n",
        "plt.ylabel('Logit value for flood probability')\n",
        "plt.title('Test set results')\n",
        "plt.xlabel('event_t')\n",
        "plt.show()"
      ],
      "metadata": {
        "id": "LfI_6H8ztlc_",
        "colab": {
          "base_uri": "https://localhost:8080/",
          "height": 472
        },
        "outputId": "b6b5e136-8868-4396-e0cf-ed42bbc79d40"
      },
      "execution_count": 29,
      "outputs": [
        {
          "output_type": "display_data",
          "data": {
            "text/plain": [
              "<Figure size 640x480 with 1 Axes>"
            ],
            "image/png": "[encoded data removed]"
          },
          "metadata": {}
        }
      ]
    },
    {
      "cell_type": "markdown",
      "source": [
        "### Prepare submission file for scoring"
      ],
      "metadata": {
        "id": "sEDxhSM2Zgvu"
      }
    },
    {
      "cell_type": "code",
      "source": [
        "def sigmoid(x):\n",
        "  return 1 / (1 + np.exp(-x))\n",
        "\n",
        "probs = sigmoid(logits)\n",
        "probs.shape"
      ],
      "metadata": {
        "id": "8w7hDxnzZl00",
        "colab": {
          "base_uri": "https://localhost:8080/"
        },
        "outputId": "da3d59a8-6b48-44ff-89bd-5a880eadc397"
      },
      "execution_count": 30,
      "outputs": [
        {
          "output_type": "execute_result",
          "data": {
            "text/plain": [
              "(224, 730)"
            ]
          },
          "metadata": {},
          "execution_count": 30
        }
      ]
    },
    {
      "cell_type": "code",
      "source": [
        "sample_submission = pd.read_csv(BASE_PATH + '/SampleSubmission.csv')\n",
        "sample_submission['label'] = probs.flatten()\n",
        "sample_submission.head()"
      ],
      "metadata": {
        "id": "D2lj2SPDZftk",
        "colab": {
          "base_uri": "https://localhost:8080/",
          "height": 206
        },
        "outputId": "318d7abb-9b41-4d14-a9a9-69527a9a11e1"
      },
      "execution_count": 34,
      "outputs": [
        {
          "output_type": "execute_result",
          "data": {
            "text/plain": [
              "              event_id     label\n",
              "0  id_j7b6sokflo4k_X_0  0.000622\n",
              "1  id_j7b6sokflo4k_X_1  0.000606\n",
              "2  id_j7b6sokflo4k_X_2  0.000627\n",
              "3  id_j7b6sokflo4k_X_3  0.000934\n",
              "4  id_j7b6sokflo4k_X_4  0.000548"
            ],
            "text/html": [
              "\n",
              "  <div id=\"df-1f65928c-5198-4167-b039-9d631268277f\" class=\"colab-df-container\">\n",
              "    <div>\n",
              "<style scoped>\n",
              "    .dataframe tbody tr th:only-of-type {\n",
              "        vertical-align: middle;\n",
              "    }\n",
              "\n",
              "    .dataframe tbody tr th {\n",
              "        vertical-align: top;\n",
              "    }\n",
              "\n",
              "    .dataframe thead th {\n",
              "        text-align: right;\n",
              "    }\n",
              "</style>\n",
              "<table border=\"1\" class=\"dataframe\">\n",
              "  <thead>\n",
              "    <tr style=\"text-align: right;\">\n",
              "      <th></th>\n",
              "      <th>event_id</th>\n",
              "      <th>label</th>\n",
              "    </tr>\n",
              "  </thead>\n",
              "  <tbody>\n",
              "    <tr>\n",
              "      <th>0</th>\n",
              "      <td>id_j7b6sokflo4k_X_0</td>\n",
              "      <td>0.000622</td>\n",
              "    </tr>\n",
              "    <tr>\n",
              "      <th>1</th>\n",
              "      <td>id_j7b6sokflo4k_X_1</td>\n",
              "      <td>0.000606</td>\n",
              "    </tr>\n",
              "    <tr>\n",
              "      <th>2</th>\n",
              "      <td>id_j7b6sokflo4k_X_2</td>\n",
              "      <td>0.000627</td>\n",
              "    </tr>\n",
              "    <tr>\n",
              "      <th>3</th>\n",
              "      <td>id_j7b6sokflo4k_X_3</td>\n",
              "      <td>0.000934</td>\n",
              "    </tr>\n",
              "    <tr>\n",
              "      <th>4</th>\n",
              "      <td>id_j7b6sokflo4k_X_4</td>\n",
              "      <td>0.000548</td>\n",
              "    </tr>\n",
              "  </tbody>\n",
              "</table>\n",
              "</div>\n",
              "    <div class=\"colab-df-buttons\">\n",
              "\n",
              "  <div class=\"colab-df-container\">\n",
              "    <button class=\"colab-df-convert\" onclick=\"convertToInteractive('df-1f65928c-5198-4167-b039-9d631268277f')\"\n",
              "            title=\"Convert this dataframe to an interactive table.\"\n",
              "            style=\"display:none;\">\n",
              "\n",
              "  <svg xmlns=\"http://www.w3.org/2000/svg\" height=\"24px\" viewBox=\"0 -960 960 960\">\n",
              "    <path d=\"M120-120v-720h720v720H120Zm60-500h600v-160H180v160Zm220 220h160v-160H400v160Zm0 220h160v-160H400v160ZM180-400h160v-160H180v160Zm440 0h160v-160H620v160ZM180-180h160v-160H180v160Zm440 0h160v-160H620v160Z\"/>\n",
              "  </svg>\n",
              "    </button>\n",
              "\n",
              "  <style>\n",
              "    .colab-df-container {\n",
              "      display:flex;\n",
              "      gap: 12px;\n",
              "    }\n",
              "\n",
              "    .colab-df-convert {\n",
              "      background-color: #E8F0FE;\n",
              "      border: none;\n",
              "      border-radius: 50%;\n",
              "      cursor: pointer;\n",
              "      display: none;\n",
              "      fill: #1967D2;\n",
              "      height: 32px;\n",
              "      padding: 0 0 0 0;\n",
              "      width: 32px;\n",
              "    }\n",
              "\n",
              "    .colab-df-convert:hover {\n",
              "      background-color: #E2EBFA;\n",
              "      box-shadow: 0px 1px 2px rgba(60, 64, 67, 0.3), 0px 1px 3px 1px rgba(60, 64, 67, 0.15);\n",
              "      fill: #174EA6;\n",
              "    }\n",
              "\n",
              "    .colab-df-buttons div {\n",
              "      margin-bottom: 4px;\n",
              "    }\n",
              "\n",
              "    [theme=dark] .colab-df-convert {\n",
              "      background-color: #3B4455;\n",
              "      fill: #D2E3FC;\n",
              "    }\n",
              "\n",
              "    [theme=dark] .colab-df-convert:hover {\n",
              "      background-color: #434B5C;\n",
              "      box-shadow: 0px 1px 3px 1px rgba(0, 0, 0, 0.15);\n",
              "      filter: drop-shadow(0px 1px 2px rgba(0, 0, 0, 0.3));\n",
              "      fill: #FFFFFF;\n",
              "    }\n",
              "  </style>\n",
              "\n",
              "    <script>\n",
              "      const buttonEl =\n",
              "        document.querySelector('#df-1f65928c-5198-4167-b039-9d631268277f button.colab-df-convert');\n",
              "      buttonEl.style.display =\n",
              "        google.colab.kernel.accessAllowed ? 'block' : 'none';\n",
              "\n",
              "      async function convertToInteractive(key) {\n",
              "        const element = document.querySelector('#df-1f65928c-5198-4167-b039-9d631268277f');\n",
              "        const dataTable =\n",
              "          await google.colab.kernel.invokeFunction('convertToInteractive',\n",
              "                                                    [key], {});\n",
              "        if (!dataTable) return;\n",
              "\n",
              "        const docLinkHtml = 'Like what you see? Visit the ' +\n",
              "          '<a target=\"_blank\" href=https://colab.research.google.com/notebooks/data_table.ipynb>data table notebook</a>'\n",
              "          + ' to learn more about interactive tables.';\n",
              "        element.innerHTML = '';\n",
              "        dataTable['output_type'] = 'display_data';\n",
              "        await google.colab.output.renderOutput(dataTable, element);\n",
              "        const docLink = document.createElement('div');\n",
              "        docLink.innerHTML = docLinkHtml;\n",
              "        element.appendChild(docLink);\n",
              "      }\n",
              "    </script>\n",
              "  </div>\n",
              "\n",
              "\n",
              "<div id=\"df-226a80cd-5328-4875-a301-6a3185938674\">\n",
              "  <button class=\"colab-df-quickchart\" onclick=\"quickchart('df-226a80cd-5328-4875-a301-6a3185938674')\"\n",
              "            title=\"Suggest charts\"\n",
              "            style=\"display:none;\">\n",
              "\n",
              "<svg xmlns=\"http://www.w3.org/2000/svg\" height=\"24px\"viewBox=\"0 0 24 24\"\n",
              "     width=\"24px\">\n",
              "    <g>\n",
              "        <path d=\"M19 3H5c-1.1 0-2 .9-2 2v14c0 1.1.9 2 2 2h14c1.1 0 2-.9 2-2V5c0-1.1-.9-2-2-2zM9 17H7v-7h2v7zm4 0h-2V7h2v10zm4 0h-2v-4h2v4z\"/>\n",
              "    </g>\n",
              "</svg>\n",
              "  </button>\n",
              "\n",
              "<style>\n",
              "  .colab-df-quickchart {\n",
              "      --bg-color: #E8F0FE;\n",
              "      --fill-color: #1967D2;\n",
              "      --hover-bg-color: #E2EBFA;\n",
              "      --hover-fill-color: #174EA6;\n",
              "      --disabled-fill-color: #AAA;\n",
              "      --disabled-bg-color: #DDD;\n",
              "  }\n",
              "\n",
              "  [theme=dark] .colab-df-quickchart {\n",
              "      --bg-color: #3B4455;\n",
              "      --fill-color: #D2E3FC;\n",
              "      --hover-bg-color: #434B5C;\n",
              "      --hover-fill-color: #FFFFFF;\n",
              "      --disabled-bg-color: #3B4455;\n",
              "      --disabled-fill-color: #666;\n",
              "  }\n",
              "\n",
              "  .colab-df-quickchart {\n",
              "    background-color: var(--bg-color);\n",
              "    border: none;\n",
              "    border-radius: 50%;\n",
              "    cursor: pointer;\n",
              "    display: none;\n",
              "    fill: var(--fill-color);\n",
              "    height: 32px;\n",
              "    padding: 0;\n",
              "    width: 32px;\n",
              "  }\n",
              "\n",
              "  .colab-df-quickchart:hover {\n",
              "    background-color: var(--hover-bg-color);\n",
              "    box-shadow: 0 1px 2px rgba(60, 64, 67, 0.3), 0 1px 3px 1px rgba(60, 64, 67, 0.15);\n",
              "    fill: var(--button-hover-fill-color);\n",
              "  }\n",
              "\n",
              "  .colab-df-quickchart-complete:disabled,\n",
              "  .colab-df-quickchart-complete:disabled:hover {\n",
              "    background-color: var(--disabled-bg-color);\n",
              "    fill: var(--disabled-fill-color);\n",
              "    box-shadow: none;\n",
              "  }\n",
              "\n",
              "  .colab-df-spinner {\n",
              "    border: 2px solid var(--fill-color);\n",
              "    border-color: transparent;\n",
              "    border-bottom-color: var(--fill-color);\n",
              "    animation:\n",
              "      spin 1s steps(1) infinite;\n",
              "  }\n",
              "\n",
              "  @keyframes spin {\n",
              "    0% {\n",
              "      border-color: transparent;\n",
              "      border-bottom-color: var(--fill-color);\n",
              "      border-left-color: var(--fill-color);\n",
              "    }\n",
              "    20% {\n",
              "      border-color: transparent;\n",
              "      border-left-color: var(--fill-color);\n",
              "      border-top-color: var(--fill-color);\n",
              "    }\n",
              "    30% {\n",
              "      border-color: transparent;\n",
              "      border-left-color: var(--fill-color);\n",
              "      border-top-color: var(--fill-color);\n",
              "      border-right-color: var(--fill-color);\n",
              "    }\n",
              "    40% {\n",
              "      border-color: transparent;\n",
              "      border-right-color: var(--fill-color);\n",
              "      border-top-color: var(--fill-color);\n",
              "    }\n",
              "    60% {\n",
              "      border-color: transparent;\n",
              "      border-right-color: var(--fill-color);\n",
              "    }\n",
              "    80% {\n",
              "      border-color: transparent;\n",
              "      border-right-color: var(--fill-color);\n",
              "      border-bottom-color: var(--fill-color);\n",
              "    }\n",
              "    90% {\n",
              "      border-color: transparent;\n",
              "      border-bottom-color: var(--fill-color);\n",
              "    }\n",
              "  }\n",
              "</style>\n",
              "\n",
              "  <script>\n",
              "    async function quickchart(key) {\n",
              "      const quickchartButtonEl =\n",
              "        document.querySelector('#' + key + ' button');\n",
              "      quickchartButtonEl.disabled = true;  // To prevent multiple clicks.\n",
              "      quickchartButtonEl.classList.add('colab-df-spinner');\n",
              "      try {\n",
              "        const charts = await google.colab.kernel.invokeFunction(\n",
              "            'suggestCharts', [key], {});\n",
              "      } catch (error) {\n",
              "        console.error('Error during call to suggestCharts:', error);\n",
              "      }\n",
              "      quickchartButtonEl.classList.remove('colab-df-spinner');\n",
              "      quickchartButtonEl.classList.add('colab-df-quickchart-complete');\n",
              "    }\n",
              "    (() => {\n",
              "      let quickchartButtonEl =\n",
              "        document.querySelector('#df-226a80cd-5328-4875-a301-6a3185938674 button');\n",
              "      quickchartButtonEl.style.display =\n",
              "        google.colab.kernel.accessAllowed ? 'block' : 'none';\n",
              "    })();\n",
              "  </script>\n",
              "</div>\n",
              "\n",
              "    </div>\n",
              "  </div>\n"
            ],
            "application/vnd.google.colaboratory.intrinsic+json": {
              "type": "dataframe",
              "variable_name": "sample_submission"
            }
          },
          "metadata": {},
          "execution_count": 34
        }
      ]
    },
    {
      "cell_type": "code",
      "source": [
        "sample_submission.to_csv('BenchmarkSubmission.csv', index = False)"
      ],
      "metadata": {
        "id": "6k_JotdFZr_4"
      },
      "execution_count": 35,
      "outputs": []
    },
    {
      "cell_type": "markdown",
      "source": [
        "**Good luck!**"
      ],
      "metadata": {
        "id": "YeueUgLzxEPo"
      }
    }
  ]
}